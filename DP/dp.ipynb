{
 "cells": [
  {
   "cell_type": "code",
   "execution_count": 13,
   "metadata": {},
   "outputs": [
    {
     "name": "stdout",
     "output_type": "stream",
     "text": [
      "319\n"
     ]
    }
   ],
   "source": [
    "# Palindrome Partitioning 2\n",
    "\n",
    "import functools\n",
    "class Solution:\n",
    "    def minCut(self, s: str) -> int:\n",
    "        n = len(s)\n",
    "        p = {}\n",
    "        def isPalin(i,j):\n",
    "            if (i,j) in p: return p[i,j]\n",
    "            ans = (s[i:j+1] == s[i:j+1][::-1])\n",
    "            while i<=j and ans:\n",
    "                p[i,j]=ans\n",
    "                i+=1\n",
    "                j-=1\n",
    "            return ans\n",
    "        \n",
    "        @functools.lru_cache(None)\n",
    "        def mCut(i=0):\n",
    "            if i>=n-1: return 0\n",
    "            if isPalin(i, n-1): return 0\n",
    "            # if s[i:] == s[i:][::-1]: return 0\n",
    "            ans = float('inf')\n",
    "            for k in range(i,n-1):\n",
    "                # if s[i:k+1] == s[i:k+1][::-1]:\n",
    "                if isPalin(i,k):\n",
    "                    ans = min(1+mCut(k+1), ans)\n",
    "            return ans\n",
    "        return mCut()\n",
    "\n",
    "s = \"mqorlzsdmxcipmicizwcjsrojktesitgajzlksrwrvgihrksshubznrialnuvidvrcjcucalzjujcebulvxnlqvldkfauiwonhshlsvkdpvfvwbjuawfrtsugxxaitqvciepdzzgqvootpxnqvsjqkfwkczuxrrzavodxqjnnzbgpauhvoqobvmnynhvfaxfvlksdtiqtlxkmtrjhhzkemxczgyeivleivymricmubwiupteytqcfqfgyfnhcankwnypwdbsezcbqvfoqvsxlzekettitgvrttgpwjjdklechlqzglxukbgrwzzpfuhyqpqobzrlnvowggvptslevrvrswhztqxlhpzir\"\n",
    "print(Solution().minCut(s))"
   ]
  },
  {
   "cell_type": "code",
   "execution_count": null,
   "metadata": {},
   "outputs": [],
   "source": []
  }
 ],
 "metadata": {
  "kernelspec": {
   "display_name": "Python 3.9.6 64-bit",
   "language": "python",
   "name": "python3"
  },
  "language_info": {
   "codemirror_mode": {
    "name": "ipython",
    "version": 3
   },
   "file_extension": ".py",
   "mimetype": "text/x-python",
   "name": "python",
   "nbconvert_exporter": "python",
   "pygments_lexer": "ipython3",
   "version": "3.9.6"
  },
  "orig_nbformat": 4,
  "vscode": {
   "interpreter": {
    "hash": "f9e5edc7c461bb44eb923f36908afa42d01f043a516f5f4ab0b7ca4f5e5b5da8"
   }
  }
 },
 "nbformat": 4,
 "nbformat_minor": 2
}
