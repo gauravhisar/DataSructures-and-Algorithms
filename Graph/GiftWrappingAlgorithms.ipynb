{
 "cells": [
  {
   "cell_type": "markdown",
   "metadata": {},
   "source": [
    "##### There are mainly three algorithms to find convex hull of a given set of points in a plane.\n",
    "1. Jarvis March Algorithm\n",
    "2. Graham Scan Algorithm\n",
    "3. Divide and Conquer Algorithm   \n",
    "We are going to implement atleast two of them"
   ]
  },
  {
   "cell_type": "code",
   "execution_count": null,
   "metadata": {},
   "outputs": [],
   "source": [
    "# we are going to implement at least two of them"
   ]
  }
 ],
 "metadata": {
  "kernelspec": {
   "display_name": "Python 3.9.6 64-bit ('base': venv)",
   "name": "python396jvsc74a57bd0149f9e1c0eaf228ce40adcf341242d37daba9ec0d661e97126ae7b1159194402"
  },
  "language_info": {
   "name": "python",
   "version": "3.9.6"
  },
  "orig_nbformat": 4
 },
 "nbformat": 4,
 "nbformat_minor": 2
}
