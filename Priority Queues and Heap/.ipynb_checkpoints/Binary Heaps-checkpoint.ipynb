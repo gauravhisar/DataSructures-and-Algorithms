{
 "cells": [
  {
   "cell_type": "markdown",
   "metadata": {},
   "source": [
    "##### Heap is always implemented using a Complete Binary Tree     \n",
    "Binary heap is widely used as a priority queue"
   ]
  },
  {
   "cell_type": "code",
   "execution_count": 21,
   "metadata": {},
   "outputs": [
    {
     "name": "stdout",
     "output_type": "stream",
     "text": [
      "[40, 25, 35, 20, 5, 30, 10]\n"
     ]
    }
   ],
   "source": [
    "H = [10,20,30,25,5,40,35]\n",
    "def heapifyMax(H): #heapify to MaxHeap\n",
    "    n = len(H) # length of heap\n",
    "    for i in range(n-1, -1, -1):\n",
    "        lchild = 2*i + 1\n",
    "        rchild = 2*i + 2\n",
    "        j = i\n",
    "        \n",
    "        while lchild < n:\n",
    "            k = lchild\n",
    "            if rchild < n and H[rchild] > H[lchild]:\n",
    "                k = rchild\n",
    "            if H[k] > H[j]:\n",
    "                temp = H[j]\n",
    "                H[j] = H[k]\n",
    "                H[k] = temp\n",
    "            else:\n",
    "                break\n",
    "            j = k\n",
    "            lchild = 2*j + 1\n",
    "            rchild = 2*j + 2\n",
    "    return H\n",
    "\n",
    "\n",
    "H = heapifyMax(H)\n",
    "print(H)\n",
    "            \n",
    "            \n",
    "        "
   ]
  },
  {
   "cell_type": "code",
   "execution_count": 22,
   "metadata": {},
   "outputs": [],
   "source": [
    "def maxHeapInsert(H, ele):\n",
    "    H.append(ele)\n",
    "    \n",
    "    i = len(H) - 1\n",
    "    \n",
    "    while(i > 0 and H[(i-1)//2] < ele):\n",
    "        H[i] = H[(i-1)//2]\n",
    "        i = (i-1)//2\n",
    "        \n",
    "    H[i] = ele\n",
    "    return H\n",
    "    \n",
    "    \n",
    "H = maxHeapInsert(H, 50)\n",
    "    "
   ]
  },
  {
   "cell_type": "code",
   "execution_count": 23,
   "metadata": {},
   "outputs": [
    {
     "data": {
      "text/plain": [
       "[50, 40, 35, 25, 5, 30, 10, 20]"
      ]
     },
     "execution_count": 23,
     "metadata": {},
     "output_type": "execute_result"
    }
   ],
   "source": [
    "H"
   ]
  },
  {
   "cell_type": "code",
   "execution_count": 24,
   "metadata": {},
   "outputs": [
    {
     "name": "stdout",
     "output_type": "stream",
     "text": [
      "50\n",
      "[40, 25, 35, 20, 5, 30, 10]\n"
     ]
    }
   ],
   "source": [
    "def popMaxheap(H):\n",
    "    n = len(H)\n",
    "    res = H[0]\n",
    "    H[0] = H[n-1]\n",
    "    H.pop() #remove last element\n",
    "    n= n-1\n",
    "    \n",
    "    j = 0\n",
    "    lchild = 2*j + 1\n",
    "    rchild = 2*j + 2\n",
    "    \n",
    "        \n",
    "    while lchild < n:\n",
    "        k = lchild\n",
    "        if rchild < n and H[rchild] > H[lchild]:\n",
    "            k = rchild\n",
    "        if H[k] > H[j]:\n",
    "            temp = H[j]\n",
    "            H[j] = H[k]\n",
    "            H[k] = temp\n",
    "        else:\n",
    "            break\n",
    "        j = k\n",
    "        lchild = 2*j + 1\n",
    "        rchild = 2*j + 2\n",
    "        \n",
    "    return res\n",
    "\n",
    "print(popMaxheap(H))\n",
    "print(H)"
   ]
  },
  {
   "cell_type": "markdown",
   "metadata": {},
   "source": [
    " #### Heap "
   ]
  }
 ],
 "metadata": {
  "kernelspec": {
   "display_name": "Python 3",
   "language": "python",
   "name": "python3"
  },
  "language_info": {
   "codemirror_mode": {
    "name": "ipython",
    "version": 3
   },
   "file_extension": ".py",
   "mimetype": "text/x-python",
   "name": "python",
   "nbconvert_exporter": "python",
   "pygments_lexer": "ipython3",
   "version": "3.7.6"
  }
 },
 "nbformat": 4,
 "nbformat_minor": 4
}
