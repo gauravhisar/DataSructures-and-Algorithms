{
 "cells": [
  {
   "cell_type": "markdown",
   "metadata": {},
   "source": [
    "##### Heap is always implemented using a Complete Binary Tree     \n",
    "Binary heap is widely used as a priority queue"
   ]
  },
  {
   "cell_type": "code",
   "execution_count": 9,
   "metadata": {},
   "outputs": [
    {
     "name": "stdout",
     "output_type": "stream",
     "text": [
      "[40, 25, 35, 20, 5, 30, 10]\n"
     ]
    }
   ],
   "source": [
    "# This heapify approach takes O(n) time// This approach follows bottom Up Approach\n",
    "# There's another approach which is top to bottom approach which takes O(nlog(n)) time. \n",
    "#Rememeber log(n!) = O(nlogn)\n",
    "# class MaxHeap:\n",
    "#     def __init__(self, args = []):\n",
    "#         self.H = args\n",
    "#     def __len__(self):\n",
    "#         return len(self.H)\n",
    "#     def __str__(self):\n",
    "#         return str(self.H)\n",
    "\n",
    "def heapifyMax(H,n): #heapify to MaxHeap\n",
    "    n = len(H) # length of heap\n",
    "    for i in range(n-1, -1, -1):\n",
    "        lchild = 2*i + 1\n",
    "        rchild = 2*i + 2\n",
    "        j = i\n",
    "        \n",
    "        while lchild < n:\n",
    "            k = lchild\n",
    "            if rchild < n and H[rchild] > H[lchild]:\n",
    "                k = rchild\n",
    "            if H[k] > H[j]:\n",
    "                temp = H[j]\n",
    "                H[j] = H[k]\n",
    "                H[k] = temp\n",
    "            else:\n",
    "                break\n",
    "            j = k\n",
    "            lchild = 2*j + 1\n",
    "            rchild = 2*j + 2\n",
    "    return H\n",
    "\n",
    "H = [10,20,30,25,5,40,35] \n",
    "n= len(H)\n",
    "H = heapifyMax(H,n)\n",
    "print(H)\n",
    "            \n",
    "            \n",
    "        "
   ]
  },
  {
   "cell_type": "code",
   "execution_count": 2,
   "metadata": {},
   "outputs": [],
   "source": [
    "    def maxHeapInsert(H, ele):\n",
    "        H.append(ele)\n",
    "\n",
    "        i = len(H) - 1\n",
    "\n",
    "        while(i > 0 and H[(i-1)//2] < ele):\n",
    "            H[i] = H[(i-1)//2]\n",
    "            i = (i-1)//2\n",
    "\n",
    "        H[i] = ele\n",
    "        return H\n",
    "\n",
    "\n",
    "    H = maxHeapInsert(H, 50)\n",
    "    "
   ]
  },
  {
   "cell_type": "code",
   "execution_count": 3,
   "metadata": {},
   "outputs": [
    {
     "data": {
      "text/plain": [
       "[50, 40, 35, 25, 5, 30, 10, 20]"
      ]
     },
     "execution_count": 3,
     "metadata": {},
     "output_type": "execute_result"
    }
   ],
   "source": [
    "H"
   ]
  },
  {
   "cell_type": "code",
   "execution_count": 11,
   "metadata": {},
   "outputs": [
    {
     "name": "stdout",
     "output_type": "stream",
     "text": [
      "[40, 25, 35, 20, 5, 30, 10]\n"
     ]
    }
   ],
   "source": [
    "def popMaxheap(H, n):\n",
    "    if n == 0:\n",
    "        return False #  error because heap is already empty\n",
    "    res = H[0]\n",
    "    H[0] = H[n-1]\n",
    "    H[n-1] = None #remove last element\n",
    "    n= n-1\n",
    "    \n",
    "    j = 0\n",
    "    lchild = 2*j + 1\n",
    "    rchild = 2*j + 2\n",
    "    \n",
    "        \n",
    "    while lchild < n:\n",
    "        k = lchild\n",
    "        if rchild < n and H[rchild] > H[lchild]:\n",
    "            k = rchild\n",
    "        if H[k] > H[j]:\n",
    "            temp = H[j]\n",
    "            H[j] = H[k]\n",
    "            H[k] = temp\n",
    "        else:\n",
    "            break\n",
    "        j = k\n",
    "        lchild = 2*j + 1\n",
    "        rchild = 2*j + 2\n",
    "        \n",
    "    return res\n",
    "\n",
    "# print(popMaxheap(H, 8))\n",
    "print(H)"
   ]
  },
  {
   "cell_type": "code",
   "execution_count": 5,
   "metadata": {},
   "outputs": [],
   "source": [
    "# increase Key(decrease key) operation in Max Heap(min Heap)\n",
    "# a given value in heap needs to be updated with other higher value, after changing it we must maintain Heap Property also\n",
    "\n",
    "def increaseKey(H, i, val): # index where we have to store value val\n",
    "    if(H[i] < val):  # if val is greater than already stored value only then we will update it\n",
    "        H[i] = val   \n",
    "        while(H[(i-1)//2] < val and i > 0): # after updating you must check if its violating max heap property\n",
    "            H[i] = H[(i-1)//2]\n",
    "            i = (i-1)//2\n",
    "        H[i] = val\n",
    "    return\n",
    "    \n",
    "increaseKey(H, 2, 50)"
   ]
  },
  {
   "cell_type": "code",
   "execution_count": 7,
   "metadata": {
    "scrolled": false
   },
   "outputs": [
    {
     "name": "stdout",
     "output_type": "stream",
     "text": [
      "[50, 25, 40, 20, 5, 30, 10]\n"
     ]
    }
   ],
   "source": [
    "print(H)  # we should have implmented a Class For Heap"
   ]
  },
  {
   "cell_type": "markdown",
   "metadata": {},
   "source": [
    " #### Heap Sort"
   ]
  },
  {
   "cell_type": "code",
   "execution_count": 12,
   "metadata": {},
   "outputs": [
    {
     "name": "stdout",
     "output_type": "stream",
     "text": [
      "[5, 10, 20, 25, 30, 35, 40]\n"
     ]
    }
   ],
   "source": [
    "# implement heap sort\n",
    "# first we will heapify the array and then delete every element to store it at last\n",
    "def heapsort(H):\n",
    "    n = len(H)\n",
    "    heapifyMax(H)\n",
    "    for i in range(n):\n",
    "        temp = popMaxheap(H,n-i)\n",
    "        H[n-1-i] = temp\n",
    "    return H\n",
    "\n",
    "H = [10,20,30,25,5,40,35]    \n",
    "heapsort(H)\n",
    "print(H)"
   ]
  },
  {
   "cell_type": "markdown",
   "metadata": {},
   "source": []
  },
  {
   "cell_type": "code",
   "execution_count": 26,
   "metadata": {},
   "outputs": [
    {
     "name": "stdout",
     "output_type": "stream",
     "text": [
      "Can be divided into two subsets of equal sum\n"
     ]
    }
   ],
   "source": [
    "def isSubsetSum(arr, n, sum):\n",
    "    # Base Cases\n",
    "    if sum == 0:\n",
    "        return True\n",
    "    if n == 0 and sum != 0:\n",
    "        return False\n",
    " \n",
    "    # If last element is greater than sum, then\n",
    "    # ignore it\n",
    "    if arr[n-1] > sum:\n",
    "        return isSubsetSum(arr, n-1, sum)\n",
    " \n",
    "    ''' else, check if sum can be obtained by any of \n",
    "    the following\n",
    "    (a) including the last element\n",
    "    (b) excluding the last element'''\n",
    " \n",
    "    return isSubsetSum(arr, n-1, sum) or isSubsetSum(arr, n-1, sum-arr[n-1])\n",
    " \n",
    "# Returns true if arr[] can be partitioned in two\n",
    "# subsets of equal sum, otherwise false\n",
    " \n",
    " \n",
    "def findPartion(arr, n):\n",
    "    sum = 0\n",
    "    for i in range(0, n):\n",
    "        sum += arr[i]\n",
    "    # If sum is odd, there cannot be two subsets\n",
    "    # with equal sum\n",
    "    if sum % 2 != 0:\n",
    "        return False\n",
    " \n",
    "    # Find if there is subset with sum equal to\n",
    "    # half of total sum\n",
    "    return isSubsetSum(arr, n, sum // 2)\n",
    " \n",
    " \n",
    " # Driver code\n",
    "arr = [3, 1, 5, 9, 12]\n",
    "n = len(arr)\n",
    " \n",
    "# Function call\n",
    "if findPartion(arr, n) == True:\n",
    "    print(\"Can be divided into two subsets of equal sum\")\n",
    "else:\n",
    "    print(\"Can not be divided into two subsets of equal sum\")\n",
    " "
   ]
  },
  {
   "cell_type": "code",
   "execution_count": 29,
   "metadata": {},
   "outputs": [
    {
     "name": "stdout",
     "output_type": "stream",
     "text": [
      "1 2 3 4\n"
     ]
    },
    {
     "data": {
      "text/plain": [
       "True"
      ]
     },
     "execution_count": 29,
     "metadata": {},
     "output_type": "execute_result"
    }
   ],
   "source": [
    "def subsetproblem(A):\n",
    "    s = sum(A)\n",
    "    if s%2 != 0:\n",
    "        return False\n",
    "    else:\n",
    "        return func(len(A), s//2)\n",
    "    \n",
    "def func(n, s):# find a subset in array(size n) whose sum is s\n",
    "    if s==0:\n",
    "        return True\n",
    "    if n==0:\n",
    "        return False\n",
    "    return func(n-1,s - A[n-1]) or func(n-1, s)\n",
    "\n",
    "A = [int(x) for x in input().split()]\n",
    "subsetproblem(A)\n",
    "    "
   ]
  },
  {
   "cell_type": "code",
   "execution_count": null,
   "metadata": {},
   "outputs": [],
   "source": [
    "# recursion \n",
    "# memoization \n",
    "# dynamic programming "
   ]
  }
 ],
 "metadata": {
  "kernelspec": {
   "display_name": "Python 3",
   "language": "python",
   "name": "python3"
  },
  "language_info": {
   "codemirror_mode": {
    "name": "ipython",
    "version": 3
   },
   "file_extension": ".py",
   "mimetype": "text/x-python",
   "name": "python",
   "nbconvert_exporter": "python",
   "pygments_lexer": "ipython3",
   "version": "3.7.6"
  }
 },
 "nbformat": 4,
 "nbformat_minor": 4
}
