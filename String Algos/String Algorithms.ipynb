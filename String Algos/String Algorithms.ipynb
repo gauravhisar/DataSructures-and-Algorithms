{
 "cells": [
  {
   "cell_type": "markdown",
   "metadata": {},
   "source": [
    "#### Finding Duplicate characters in a string using Bitwise Operations"
   ]
  },
  {
   "cell_type": "code",
   "execution_count": 1,
   "metadata": {},
   "outputs": [
    {
     "name": "stdout",
     "output_type": "stream",
     "text": [
      "['s', 'i', 's', 's', 'i', 'p', 'i']\n"
     ]
    }
   ],
   "source": [
    "#Refer Udemy Abdul Bari\n",
    "\n",
    "s = \"mississippi\"\n",
    "h = 0\n",
    "x = 1\n",
    "res = []\n",
    "for i in range(len(s)):\n",
    "    x = 1\n",
    "    x = x << (ord(s[i])-97)\n",
    "    if x&h == 0:\n",
    "        h = h | x\n",
    "    else:\n",
    "         res.append(s[i])\n",
    "print(res)"
   ]
  },
  {
   "cell_type": "markdown",
   "metadata": {},
   "source": [
    "#### Finding Longest Common Proper Prefix Suffix (LPS) (Used in KMP Algorithm)\n"
   ]
  },
  {
   "cell_type": "code",
   "execution_count": 3,
   "metadata": {},
   "outputs": [
    {
     "name": "stdout",
     "output_type": "stream",
     "text": [
      "[0, 0, 0, 1, 2, 3, 0]\n",
      "[0, 1, 0, 1, 2, 2, 3]\n"
     ]
    }
   ],
   "source": [
    "# Ex - 1\n",
    "#abcabcd\n",
    "#0001230\n",
    "\n",
    "#Ex - 2\n",
    "#aabaaab\n",
    "#0101223\n",
    "#0 \n",
    "def findLps(s):\n",
    "    n = len(s)\n",
    "    lps = [0]*n\n",
    "    i = 0\n",
    "    j = 1\n",
    "    while j<n:\n",
    "        if s[i]==s[j]:\n",
    "            lps[j]=i+1\n",
    "            j+=1\n",
    "            i+=1\n",
    "        elif i==0:\n",
    "            lps[j]=0\n",
    "            j+=1\n",
    "        else:\n",
    "            i = lps[i-1]\n",
    "    return lps\n",
    "\n",
    "print(findLps(\"abcabcd\"))\n",
    "print(findLps(\"aabaaab\"))\n"
   ]
  },
  {
   "cell_type": "markdown",
   "metadata": {},
   "source": [
    "#### KMP Algorithm"
   ]
  },
  {
   "cell_type": "code",
   "execution_count": 12,
   "metadata": {},
   "outputs": [
    {
     "name": "stdout",
     "output_type": "stream",
     "text": [
      "False\n"
     ]
    }
   ],
   "source": [
    "def kmpSearch(s, p):\n",
    "    lps = findLps(p)\n",
    "    n,m = len(s), len(p)\n",
    "    i = j = 0\n",
    "    while i<n and j<m:\n",
    "        if s[i]==p[j]:\n",
    "            i,j=i+1,j+1\n",
    "        elif j==0:\n",
    "            i+=1\n",
    "        else:\n",
    "            j=lps[j-1]\n",
    "    return j==m\n",
    "\n",
    "s = \"abcxabcdabxabcdabcdabcy\"\n",
    "p = \"abcdabcy\"\n",
    "print(kmpSearch(s,p))"
   ]
  },
  {
   "cell_type": "code",
   "execution_count": null,
   "metadata": {},
   "outputs": [],
   "source": []
  }
 ],
 "metadata": {
  "kernelspec": {
   "display_name": "Python 3",
   "language": "python",
   "name": "python3"
  },
  "language_info": {
   "codemirror_mode": {
    "name": "ipython",
    "version": 3
   },
   "file_extension": ".py",
   "mimetype": "text/x-python",
   "name": "python",
   "nbconvert_exporter": "python",
   "pygments_lexer": "ipython3",
   "version": "3.10.4"
  }
 },
 "nbformat": 4,
 "nbformat_minor": 4
}
