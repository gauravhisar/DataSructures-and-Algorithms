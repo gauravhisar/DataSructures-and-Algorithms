{
 "cells": [
  {
   "cell_type": "markdown",
   "metadata": {},
   "source": [
    "#### Rolling Hash"
   ]
  },
  {
   "cell_type": "code",
   "execution_count": null,
   "metadata": {},
   "outputs": [],
   "source": [
    "from functools import reduce\n",
    "M = 1<<63 - 1\n",
    "B = 131\n",
    "\n",
    "# def mod(a,b): # we dont need this function in python, we need it in other languages\n",
    "#     return ((a%b)+b)%b\n",
    "\n",
    "def rollHash(A,i,j,hw): # hw -> hash of window\n",
    "    E = (B**(j-i+1))%M\n",
    "    return (hw*B + A[j+1] - A[i]*E)%M\n",
    "    \n",
    "    \n",
    "def Hash(A, size):\n",
    "    return reduce(lambda x,y: (x*B  + y)%M, A[:size], 0)\n",
    " "
   ]
  },
  {
   "cell_type": "markdown",
   "metadata": {},
   "source": [
    "#### KMP Algorithm"
   ]
  },
  {
   "cell_type": "code",
   "execution_count": 13,
   "metadata": {},
   "outputs": [
    {
     "name": "stdout",
     "output_type": "stream",
     "text": [
      "[0, 0, 1, 2, 3, 0]\n",
      "[5, 16]\n",
      "18\n"
     ]
    }
   ],
   "source": [
    "s = \"ababacabcabababacd\"\n",
    "p = \"ababac\"\n",
    "\n",
    "def createLps(p):\n",
    "    m= len(p)\n",
    "    lps = [0]*m\n",
    "    for i in range(1,m):\n",
    "        j = lps[i-1]\n",
    "        while j>0 and p[i]!=p[j]:\n",
    "            j = lps[j-1]\n",
    "        if p[i]==p[j]:\n",
    "            j+=1\n",
    "        lps[i] = j\n",
    "    return lps\n",
    "\n",
    "def match(s, p):\n",
    "    n = len(s)\n",
    "    m = len(p)\n",
    "    lps = createLps(p)\n",
    "    j=0 # pointer to pattern\n",
    "    for i in range(n):\n",
    "        while j>0 and (j==m or s[i]!=p[j]):\n",
    "            j=lps[j-1]\n",
    "        if s[i]==p[j]:\n",
    "            j+=1\n",
    "        if j==m:\n",
    "            return True\n",
    "    return False\n",
    "\n",
    "# t = createLps(\"aacecaaa#aaacecaa\")\n",
    "print(match(s, p))\n",
    "print(len(s))    "
   ]
  },
  {
   "cell_type": "markdown",
   "metadata": {},
   "source": [
    "#### Z function\n",
    "Suppose we are given a string $s$ of length $n$. The **Z-function** for this string is an array of length $n$ where the $i$-th element is equal to the greatest number of characters starting from the position $i$ that coincide with the first characters of $s$.\n",
    "\n",
    "In other words, $z[i]$ is the length of the longest string that is, at the same time, a prefix of $s$ and a prefix of the suffix of $s$ starting at $i$."
   ]
  },
  {
   "cell_type": "code",
   "execution_count": 2,
   "metadata": {},
   "outputs": [],
   "source": [
    "# can be used for pattern matching\n",
    "def z_function(s):\n",
    "    n = len(s)\n",
    "    z = [0]*n\n",
    "    l=r=0\n",
    "    for i in range(1,n):\n",
    "        if i<=r:\n",
    "            z[i] = min(z[i-l], r-i+1)\n",
    "        while i+z[i] < n and s[i+z[i]] == s[z[i]]:\n",
    "            z[i]+=1\n",
    "        if i+z[i]-1>r:\n",
    "            l,r = i, i+z[i]-1\n",
    "    return z\n",
    "\n",
    "        \n"
   ]
  },
  {
   "cell_type": "code",
   "execution_count": null,
   "metadata": {},
   "outputs": [],
   "source": []
  }
 ],
 "metadata": {
  "kernelspec": {
   "display_name": "Python 3.9.6 64-bit",
   "language": "python",
   "name": "python3"
  },
  "language_info": {
   "codemirror_mode": {
    "name": "ipython",
    "version": 3
   },
   "file_extension": ".py",
   "mimetype": "text/x-python",
   "name": "python",
   "nbconvert_exporter": "python",
   "pygments_lexer": "ipython3",
   "version": "3.9.6"
  },
  "vscode": {
   "interpreter": {
    "hash": "f9e5edc7c461bb44eb923f36908afa42d01f043a516f5f4ab0b7ca4f5e5b5da8"
   }
  }
 },
 "nbformat": 4,
 "nbformat_minor": 4
}
