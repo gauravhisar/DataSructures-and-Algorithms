{
 "cells": [
  {
   "cell_type": "markdown",
   "metadata": {},
   "source": [
    "#### Finding Duplicate characters in a string using Bitwise Operations"
   ]
  },
  {
   "cell_type": "code",
   "execution_count": 1,
   "metadata": {},
   "outputs": [
    {
     "name": "stdout",
     "output_type": "stream",
     "text": [
      "['s', 'i', 's', 's', 'i', 'p', 'i']\n"
     ]
    }
   ],
   "source": [
    "#Refer Udemy Abdul Bari\n",
    "\n",
    "s = \"mississippi\"\n",
    "h = 0\n",
    "x = 1\n",
    "res = []\n",
    "for i in range(len(s)):\n",
    "    x = 1\n",
    "    x = x << (ord(s[i])-97)\n",
    "    if x&h == 0:\n",
    "        h = h | x\n",
    "    else:\n",
    "         res.append(s[i])\n",
    "print(res)"
   ]
  },
  {
   "cell_type": "markdown",
   "metadata": {},
   "source": [
    "#### Permutations of String"
   ]
  },
  {
   "cell_type": "code",
   "execution_count": 1,
   "metadata": {},
   "outputs": [],
   "source": []
  },
  {
   "cell_type": "code",
   "execution_count": null,
   "metadata": {},
   "outputs": [],
   "source": []
  }
 ],
 "metadata": {
  "kernelspec": {
   "display_name": "Python 3",
   "language": "python",
   "name": "python3"
  },
  "language_info": {
   "codemirror_mode": {
    "name": "ipython",
    "version": 3
   },
   "file_extension": ".py",
   "mimetype": "text/x-python",
   "name": "python",
   "nbconvert_exporter": "python",
   "pygments_lexer": "ipython3",
   "version": "3.7.6"
  }
 },
 "nbformat": 4,
 "nbformat_minor": 4
}
