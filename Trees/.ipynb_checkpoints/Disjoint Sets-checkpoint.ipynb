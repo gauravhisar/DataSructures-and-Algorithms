{
 "cells": [
  {
   "cell_type": "markdown",
   "metadata": {},
   "source": [
    "Two Disjoint Sets doesnt have anything in common. That means S1 intersection S2 is phi.    \n",
    "Disjoint sets are used to check cycles in a Graph. There are mainly two operations that we perform in Disjoint sets:\n",
    "\n",
    "  Find(x) - finds to which set x belongs          \n",
    "  Union - takes union of two disjoint sets\n"
   ]
  },
  {
   "cell_type": "markdown",
   "metadata": {},
   "source": [
    "#### Union By Rank "
   ]
  },
  {
   "cell_type": "code",
   "execution_count": 1,
   "metadata": {},
   "outputs": [],
   "source": [
    "# Refer Udemy Video of Kruskal Algo\n",
    "# Also Refer Narsimha Karumanchi Pg 194 (Union By Height/Rank)\n",
    "# Refer Notebook also\n",
    "\n",
    "def unionbyRank(i, j): # i,j are elements of the sets which whom we have to unify\n",
    "    a = Find(i)  # finding root of i\n",
    "    b = Find(j)  # finding root of j\n",
    "    if a==b:  # if both the roots are same that means i,j both are in the same set and we dont have to take union\n",
    "        return\n",
    "    if S[a] < S[b]: # rank(a) > rank(b) that means b's root node will be attached to a's root node\n",
    "        S[b] = a\n",
    "    else:                   # rank(b) >= rank(a) that means a's node wil be attached to b's node\n",
    "        if S[a] == S[b]:    # rank(b) == rank(a) means we have to increase rank by one\n",
    "            S[b] = S[b] - 1\n",
    "        S[a] = b\n",
    "        "
   ]
  },
  {
   "cell_type": "markdown",
   "metadata": {},
   "source": [
    "#### Find with Path Compression O(α(n))  where α is ackermann's function which is always less than 4"
   ]
  },
  {
   "cell_type": "code",
   "execution_count": null,
   "metadata": {},
   "outputs": [],
   "source": [
    "def Find(x):\n",
    "    if x<=0 or x>size:\n",
    "        return\n",
    "    if S[x] < 0: #means x is his own root\n",
    "        return x\n",
    "    else:\n",
    "        S[x] = Find(S[x]) # find root of S[x] and store it in S[x] itself\n",
    "        return S[x] # root of x/S[x] returned"
   ]
  }
 ],
 "metadata": {
  "kernelspec": {
   "display_name": "Python 3",
   "language": "python",
   "name": "python3"
  },
  "language_info": {
   "codemirror_mode": {
    "name": "ipython",
    "version": 3
   },
   "file_extension": ".py",
   "mimetype": "text/x-python",
   "name": "python",
   "nbconvert_exporter": "python",
   "pygments_lexer": "ipython3",
   "version": "3.7.6"
  }
 },
 "nbformat": 4,
 "nbformat_minor": 4
}
